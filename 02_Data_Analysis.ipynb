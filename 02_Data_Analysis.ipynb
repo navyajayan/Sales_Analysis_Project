{
 "cells": [
  {
   "cell_type": "markdown",
   "id": "72aba9f7",
   "metadata": {},
   "source": [
    "**Objective:** Analyze the cleaned sales dataset to extract key insights:\n",
    "- Total revenue per product\n",
    "- Top 5 selling products\n",
    "- Monthly revenue trends\n",
    "- Sales performance across Regions\n",
    "- Best-performing sales representative\n"
   ]
  },
  {
   "cell_type": "code",
   "execution_count": 1,
   "id": "59df2f3d",
   "metadata": {},
   "outputs": [
    {
     "data": {
      "text/html": [
       "<div>\n",
       "<style scoped>\n",
       "    .dataframe tbody tr th:only-of-type {\n",
       "        vertical-align: middle;\n",
       "    }\n",
       "\n",
       "    .dataframe tbody tr th {\n",
       "        vertical-align: top;\n",
       "    }\n",
       "\n",
       "    .dataframe thead th {\n",
       "        text-align: right;\n",
       "    }\n",
       "</style>\n",
       "<table border=\"1\" class=\"dataframe\">\n",
       "  <thead>\n",
       "    <tr style=\"text-align: right;\">\n",
       "      <th></th>\n",
       "      <th>Date</th>\n",
       "      <th>Customer_ID</th>\n",
       "      <th>Product_Category</th>\n",
       "      <th>Product_Name</th>\n",
       "      <th>Units_Sold</th>\n",
       "      <th>Unit_Price</th>\n",
       "      <th>Region</th>\n",
       "      <th>Sales_Rep</th>\n",
       "      <th>Revenue</th>\n",
       "    </tr>\n",
       "  </thead>\n",
       "  <tbody>\n",
       "    <tr>\n",
       "      <th>0</th>\n",
       "      <td>2023-11-24</td>\n",
       "      <td>CUST1070</td>\n",
       "      <td>Stationery</td>\n",
       "      <td>Pen</td>\n",
       "      <td>17</td>\n",
       "      <td>495</td>\n",
       "      <td>North</td>\n",
       "      <td>Bob</td>\n",
       "      <td>8415</td>\n",
       "    </tr>\n",
       "    <tr>\n",
       "      <th>1</th>\n",
       "      <td>2023-02-27</td>\n",
       "      <td>CUST1021</td>\n",
       "      <td>Clothing</td>\n",
       "      <td>Pen</td>\n",
       "      <td>1</td>\n",
       "      <td>544</td>\n",
       "      <td>South</td>\n",
       "      <td>Alice</td>\n",
       "      <td>544</td>\n",
       "    </tr>\n",
       "    <tr>\n",
       "      <th>2</th>\n",
       "      <td>2023-01-13</td>\n",
       "      <td>CUST1033</td>\n",
       "      <td>Electronics</td>\n",
       "      <td>Laptop</td>\n",
       "      <td>16</td>\n",
       "      <td>1356</td>\n",
       "      <td>South</td>\n",
       "      <td>Alice</td>\n",
       "      <td>21696</td>\n",
       "    </tr>\n",
       "    <tr>\n",
       "      <th>3</th>\n",
       "      <td>2023-05-21</td>\n",
       "      <td>CUST1067</td>\n",
       "      <td>Stationery</td>\n",
       "      <td>T-Shirt</td>\n",
       "      <td>12</td>\n",
       "      <td>175</td>\n",
       "      <td>West</td>\n",
       "      <td>Charlie</td>\n",
       "      <td>2100</td>\n",
       "    </tr>\n",
       "    <tr>\n",
       "      <th>4</th>\n",
       "      <td>2023-05-06</td>\n",
       "      <td>CUST1077</td>\n",
       "      <td>Stationery</td>\n",
       "      <td>Phone</td>\n",
       "      <td>19</td>\n",
       "      <td>364</td>\n",
       "      <td>South</td>\n",
       "      <td>Ethan</td>\n",
       "      <td>6916</td>\n",
       "    </tr>\n",
       "  </tbody>\n",
       "</table>\n",
       "</div>"
      ],
      "text/plain": [
       "         Date Customer_ID Product_Category Product_Name  Units_Sold  \\\n",
       "0  2023-11-24    CUST1070       Stationery          Pen          17   \n",
       "1  2023-02-27    CUST1021         Clothing          Pen           1   \n",
       "2  2023-01-13    CUST1033      Electronics       Laptop          16   \n",
       "3  2023-05-21    CUST1067       Stationery      T-Shirt          12   \n",
       "4  2023-05-06    CUST1077       Stationery        Phone          19   \n",
       "\n",
       "   Unit_Price Region Sales_Rep  Revenue  \n",
       "0         495  North       Bob     8415  \n",
       "1         544  South     Alice      544  \n",
       "2        1356  South     Alice    21696  \n",
       "3         175   West   Charlie     2100  \n",
       "4         364  South     Ethan     6916  "
      ]
     },
     "execution_count": 1,
     "metadata": {},
     "output_type": "execute_result"
    }
   ],
   "source": [
    "import pandas as pd\n",
    "df1=pd.read_csv(r\"C:\\Users\\navya\\OneDrive\\Documents\\Sales_Analysis_Project\\Data\\sales_data_cleaned.csv\")\n",
    "df1.head()\n"
   ]
  },
  {
   "cell_type": "code",
   "execution_count": 2,
   "id": "3b421535",
   "metadata": {},
   "outputs": [
    {
     "name": "stdout",
     "output_type": "stream",
     "text": [
      "<class 'pandas.core.frame.DataFrame'>\n",
      "RangeIndex: 195 entries, 0 to 194\n",
      "Data columns (total 9 columns):\n",
      " #   Column            Non-Null Count  Dtype \n",
      "---  ------            --------------  ----- \n",
      " 0   Date              195 non-null    object\n",
      " 1   Customer_ID       195 non-null    object\n",
      " 2   Product_Category  195 non-null    object\n",
      " 3   Product_Name      195 non-null    object\n",
      " 4   Units_Sold        195 non-null    int64 \n",
      " 5   Unit_Price        195 non-null    int64 \n",
      " 6   Region            195 non-null    object\n",
      " 7   Sales_Rep         195 non-null    object\n",
      " 8   Revenue           195 non-null    int64 \n",
      "dtypes: int64(3), object(6)\n",
      "memory usage: 13.8+ KB\n"
     ]
    }
   ],
   "source": [
    "df1.info()"
   ]
  },
  {
   "cell_type": "markdown",
   "id": "36d7849c",
   "metadata": {},
   "source": [
    "### Total Revenue per product"
   ]
  },
  {
   "cell_type": "code",
   "execution_count": 3,
   "id": "94a74d88",
   "metadata": {},
   "outputs": [
    {
     "data": {
      "text/plain": [
       "array(['Pen', 'Laptop', 'T-Shirt', 'Phone', 'Table', 'Notebook', 'Chair'],\n",
       "      dtype=object)"
      ]
     },
     "execution_count": 3,
     "metadata": {},
     "output_type": "execute_result"
    }
   ],
   "source": [
    "df1[\"Product_Name\"].unique()"
   ]
  },
  {
   "cell_type": "code",
   "execution_count": 4,
   "id": "0b04fe12",
   "metadata": {},
   "outputs": [
    {
     "data": {
      "text/plain": [
       "Product_Name\n",
       "Laptop      387917\n",
       "T-Shirt     382374\n",
       "Notebook    335357\n",
       "Table       294298\n",
       "Chair       248958\n",
       "Pen         217428\n",
       "Phone       191882\n",
       "Name: Revenue, dtype: int64"
      ]
     },
     "execution_count": 4,
     "metadata": {},
     "output_type": "execute_result"
    }
   ],
   "source": [
    "product_revenue=df1.groupby('Product_Name')['Revenue'].sum().sort_values(ascending=False)\n",
    "product_revenue\n"
   ]
  },
  {
   "cell_type": "markdown",
   "id": "70b5eb52",
   "metadata": {},
   "source": [
    "**Insight:** Laptops and T-Shirts are driving the most revenue, indicating strong demand and higher price points."
   ]
  },
  {
   "cell_type": "markdown",
   "id": "2e7cb60e",
   "metadata": {},
   "source": [
    "### Top 5 selling products based on units sold ###"
   ]
  },
  {
   "cell_type": "code",
   "execution_count": 5,
   "id": "9c0c9087",
   "metadata": {},
   "outputs": [
    {
     "name": "stdout",
     "output_type": "stream",
     "text": [
      "Top 5 selling products Product_Name\n",
      "T-Shirt     360\n",
      "Laptop      343\n",
      "Notebook    322\n",
      "Table       284\n",
      "Pen         210\n",
      "Name: Units_Sold, dtype: int64\n"
     ]
    }
   ],
   "source": [
    "Top_selling_prod=df1.groupby(\"Product_Name\")[\"Units_Sold\"].sum().sort_values(ascending=False).head(5)\n",
    "print(\"Top 5 selling products\",Top_selling_prod)"
   ]
  },
  {
   "cell_type": "markdown",
   "id": "9ca9e511",
   "metadata": {},
   "source": [
    "**Insight:** T-Shirts sell in the highest quantity, showing popularity among customers, while revenue may differ due to unit price variations."
   ]
  },
  {
   "cell_type": "markdown",
   "id": "8db8aaff",
   "metadata": {},
   "source": [
    "### Monthly Revenue Trend ###"
   ]
  },
  {
   "cell_type": "code",
   "execution_count": 6,
   "id": "e90294da",
   "metadata": {},
   "outputs": [],
   "source": [
    "df1['Date'] = pd.to_datetime(df1['Date'])\n",
    "df1[\"Yearmonth\"]=df1[\"Date\"].dt.to_period('M')\n",
    "monthly_revenue=df1.groupby('Yearmonth')[\"Revenue\"].sum().reset_index()\n",
    "monthly_revenue['Yearmonth'] = monthly_revenue['Yearmonth'].astype(str)\n",
    "\n"
   ]
  },
  {
   "cell_type": "code",
   "execution_count": 7,
   "id": "2aae86de",
   "metadata": {},
   "outputs": [],
   "source": [
    "import matplotlib.pyplot as plt\n",
    "import seaborn as sns"
   ]
  },
  {
   "cell_type": "code",
   "execution_count": 8,
   "id": "e880476c",
   "metadata": {},
   "outputs": [
    {
     "data": {
      "image/png": "[encoded data removed]",
      "text/plain": [
       "<Figure size 1000x500 with 1 Axes>"
      ]
     },
     "metadata": {},
     "output_type": "display_data"
    }
   ],
   "source": [
    "plt.figure(figsize=(10,5))\n",
    "sns.lineplot(data=monthly_revenue,x='Yearmonth',y='Revenue',marker='o')\n",
    "plt.title(\"monthly Revenue Trend\")\n",
    "plt.xlabel(\"month\")\n",
    "plt.ylabel(\"Revenue\")\n",
    "plt.show()\n",
    "             "
   ]
  },
  {
   "cell_type": "markdown",
   "id": "fbbcc72c",
   "metadata": {},
   "source": [
    "**insight:** — The chart shows monthly revenue fluctuations for 2023, highlighting peaks in February and dips around May and December, indicating possible seasonal variations in sales.\n"
   ]
  },
  {
   "cell_type": "markdown",
   "id": "1507ae39",
   "metadata": {},
   "source": [
    "### Sales performance across Regions ###"
   ]
  },
  {
   "cell_type": "code",
   "execution_count": 9,
   "id": "7c57d320",
   "metadata": {},
   "outputs": [
    {
     "data": {
      "text/plain": [
       "Region\n",
       "South    590340\n",
       "North    587010\n",
       "East     484350\n",
       "West     396514\n",
       "Name: Revenue, dtype: int64"
      ]
     },
     "execution_count": 9,
     "metadata": {},
     "output_type": "execute_result"
    }
   ],
   "source": [
    "region_revenue=df1.groupby('Region')[\"Revenue\"].sum().sort_values(ascending=False)\n",
    "region_revenue"
   ]
  },
  {
   "cell_type": "markdown",
   "id": "f72c2ecd",
   "metadata": {},
   "source": [
    "**Insight:** The South and North regions generate the highest revenue, indicating strong market performance there.  \n",
    "The East and West regions contribute less, suggesting potential opportunities to increase sales through targeted marketing or promotions."
   ]
  },
  {
   "cell_type": "markdown",
   "id": "5efeb2aa",
   "metadata": {},
   "source": [
    "### Best performing Sales Representative ###"
   ]
  },
  {
   "cell_type": "code",
   "execution_count": 10,
   "id": "2b56884b",
   "metadata": {},
   "outputs": [
    {
     "data": {
      "text/plain": [
       "Sales_Rep\n",
       "Alice      489749\n",
       "Charlie    461833\n",
       "Ethan      421270\n",
       "Diana      397523\n",
       "Bob        287839\n",
       "Name: Revenue, dtype: int64"
      ]
     },
     "execution_count": 10,
     "metadata": {},
     "output_type": "execute_result"
    }
   ],
   "source": [
    "sales_rep_performance=df1.groupby(\"Sales_Rep\")[\"Revenue\"].sum().sort_values(ascending=False)\n",
    "sales_rep_performance"
   ]
  },
  {
   "cell_type": "markdown",
   "id": "4f502441",
   "metadata": {},
   "source": [
    "**Insight:** Alice and Charlie are the top performers, contributing the most to overall sales.  \n",
    "Recognizing high performers and mentoring lower performers like Bob can help improve overall team efficiency and revenue."
   ]
  },
  {
   "cell_type": "code",
   "execution_count": null,
   "id": "a3b2d22b",
   "metadata": {},
   "outputs": [],
   "source": []
  }
 ],
 "metadata": {
  "kernelspec": {
   "display_name": "base",
   "language": "python",
   "name": "python3"
  },
  "language_info": {
   "codemirror_mode": {
    "name": "ipython",
    "version": 3
   },
   "file_extension": ".py",
   "mimetype": "text/x-python",
   "name": "python",
   "nbconvert_exporter": "python",
   "pygments_lexer": "ipython3",
   "version": "3.12.7"
  }
 },
 "nbformat": 4,
 "nbformat_minor": 5
}
