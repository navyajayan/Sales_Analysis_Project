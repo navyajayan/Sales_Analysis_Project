{
 "cells": [
  {
   "cell_type": "markdown",
   "id": "3f30671b",
   "metadata": {},
   "source": [
    "### Objective\n",
    "This notebook focuses on cleaning the company's monthly sales data by:\n",
    "- Identifying and handling missing or inconsistent data.\n",
    "- Converting the `Date` column to proper date time format.\n",
    "- Removing duplicates.\n"
   ]
  },
  {
   "cell_type": "code",
   "execution_count": 1,
   "id": "d34b78a1",
   "metadata": {},
   "outputs": [
    {
     "data": {
      "text/html": [
       "<div>\n",
       "<style scoped>\n",
       "    .dataframe tbody tr th:only-of-type {\n",
       "        vertical-align: middle;\n",
       "    }\n",
       "\n",
       "    .dataframe tbody tr th {\n",
       "        vertical-align: top;\n",
       "    }\n",
       "\n",
       "    .dataframe thead th {\n",
       "        text-align: right;\n",
       "    }\n",
       "</style>\n",
       "<table border=\"1\" class=\"dataframe\">\n",
       "  <thead>\n",
       "    <tr style=\"text-align: right;\">\n",
       "      <th></th>\n",
       "      <th>Date</th>\n",
       "      <th>Customer_ID</th>\n",
       "      <th>Product_Category</th>\n",
       "      <th>Product_Name</th>\n",
       "      <th>Units_Sold</th>\n",
       "      <th>Unit_Price</th>\n",
       "      <th>Region</th>\n",
       "      <th>Sales_Rep</th>\n",
       "      <th>Revenue</th>\n",
       "    </tr>\n",
       "  </thead>\n",
       "  <tbody>\n",
       "    <tr>\n",
       "      <th>0</th>\n",
       "      <td>2023-11-24</td>\n",
       "      <td>CUST1070</td>\n",
       "      <td>Stationery</td>\n",
       "      <td>Pen</td>\n",
       "      <td>17</td>\n",
       "      <td>495</td>\n",
       "      <td>North</td>\n",
       "      <td>Bob</td>\n",
       "      <td>8415</td>\n",
       "    </tr>\n",
       "    <tr>\n",
       "      <th>1</th>\n",
       "      <td>2023-02-27</td>\n",
       "      <td>CUST1021</td>\n",
       "      <td>Clothing</td>\n",
       "      <td>Pen</td>\n",
       "      <td>1</td>\n",
       "      <td>544</td>\n",
       "      <td>South</td>\n",
       "      <td>Alice</td>\n",
       "      <td>544</td>\n",
       "    </tr>\n",
       "    <tr>\n",
       "      <th>2</th>\n",
       "      <td>2023-01-13</td>\n",
       "      <td>CUST1033</td>\n",
       "      <td>Electronics</td>\n",
       "      <td>Laptop</td>\n",
       "      <td>16</td>\n",
       "      <td>1356</td>\n",
       "      <td>South</td>\n",
       "      <td>Alice</td>\n",
       "      <td>21696</td>\n",
       "    </tr>\n",
       "    <tr>\n",
       "      <th>3</th>\n",
       "      <td>2023-05-21</td>\n",
       "      <td>CUST1067</td>\n",
       "      <td>Stationery</td>\n",
       "      <td>T-Shirt</td>\n",
       "      <td>12</td>\n",
       "      <td>175</td>\n",
       "      <td>West</td>\n",
       "      <td>Charlie</td>\n",
       "      <td>2100</td>\n",
       "    </tr>\n",
       "    <tr>\n",
       "      <th>4</th>\n",
       "      <td>2023-05-06</td>\n",
       "      <td>CUST1077</td>\n",
       "      <td>Stationery</td>\n",
       "      <td>Phone</td>\n",
       "      <td>19</td>\n",
       "      <td>364</td>\n",
       "      <td>South</td>\n",
       "      <td>Ethan</td>\n",
       "      <td>6916</td>\n",
       "    </tr>\n",
       "  </tbody>\n",
       "</table>\n",
       "</div>"
      ],
      "text/plain": [
       "         Date Customer_ID Product_Category Product_Name  Units_Sold  \\\n",
       "0  2023-11-24    CUST1070       Stationery          Pen          17   \n",
       "1  2023-02-27    CUST1021         Clothing          Pen           1   \n",
       "2  2023-01-13    CUST1033      Electronics       Laptop          16   \n",
       "3  2023-05-21    CUST1067       Stationery      T-Shirt          12   \n",
       "4  2023-05-06    CUST1077       Stationery        Phone          19   \n",
       "\n",
       "   Unit_Price Region Sales_Rep  Revenue  \n",
       "0         495  North       Bob     8415  \n",
       "1         544  South     Alice      544  \n",
       "2        1356  South     Alice    21696  \n",
       "3         175   West   Charlie     2100  \n",
       "4         364  South     Ethan     6916  "
      ]
     },
     "execution_count": 1,
     "metadata": {},
     "output_type": "execute_result"
    }
   ],
   "source": [
    "import pandas as pd \n",
    "df=pd.read_csv(r\"C:\\Users\\navya\\OneDrive\\Documents\\Sales_Analysis_Project\\Data\\sample_sales_data.csv\")\n",
    "df.head()"
   ]
  },
  {
   "cell_type": "markdown",
   "id": "5f138e2c",
   "metadata": {},
   "source": [
    "### Identifying and Handling missing values"
   ]
  },
  {
   "cell_type": "code",
   "execution_count": 2,
   "id": "bbca0f8f",
   "metadata": {},
   "outputs": [
    {
     "name": "stdout",
     "output_type": "stream",
     "text": [
      "Missing values per column:\n",
      "\n",
      "Date                0\n",
      "Customer_ID         0\n",
      "Product_Category    0\n",
      "Product_Name        5\n",
      "Units_Sold          0\n",
      "Unit_Price          0\n",
      "Region              0\n",
      "Sales_Rep           0\n",
      "Revenue             0\n",
      "dtype: int64\n"
     ]
    }
   ],
   "source": [
    "print(\"Missing values per column:\\n\")\n",
    "print(df.isnull().sum())"
   ]
  },
  {
   "cell_type": "code",
   "execution_count": 3,
   "id": "83b1ad68",
   "metadata": {},
   "outputs": [
    {
     "name": "stdout",
     "output_type": "stream",
     "text": [
      "Dataset shape after dropping rows with missing Product_Name: (200, 9)\n"
     ]
    }
   ],
   "source": [
    "df = df.dropna(subset=['Product_Name'])\n",
    "print(f\"Dataset shape after dropping rows with missing Product_Name: {df.shape}\")"
   ]
  },
  {
   "cell_type": "markdown",
   "id": "e044e7b2",
   "metadata": {},
   "source": [
    "***Finding:*** 5 rows had missing `Product_Name`.  \n",
    "***Decision & Action:*** Dropped these rows because they were very few and imputing names could introduce errors in product-level analysis.  \n",
    "***Result:*** Cleaned dataset now has 200 rows and 9 columns, ready for analysis."
   ]
  },
  {
   "cell_type": "markdown",
   "id": "652f81d9",
   "metadata": {},
   "source": [
    "### Date and Time formating ###"
   ]
  },
  {
   "cell_type": "code",
   "execution_count": 4,
   "id": "2b50f17a",
   "metadata": {},
   "outputs": [],
   "source": [
    "df['Date'] = pd.to_datetime(df['Date'], errors='coerce')\n"
   ]
  },
  {
   "cell_type": "code",
   "execution_count": 5,
   "id": "39ecc8db",
   "metadata": {},
   "outputs": [
    {
     "name": "stdout",
     "output_type": "stream",
     "text": [
      "Invalid dates: 0\n"
     ]
    }
   ],
   "source": [
    "print(\"Invalid dates:\", df['Date'].isna().sum())\n"
   ]
  },
  {
   "cell_type": "markdown",
   "id": "b29ee83e",
   "metadata": {},
   "source": [
    "### Identifying and Removing duplicate values ###"
   ]
  },
  {
   "cell_type": "code",
   "execution_count": 6,
   "id": "bc728c73",
   "metadata": {},
   "outputs": [
    {
     "data": {
      "text/plain": [
       "5"
      ]
     },
     "execution_count": 6,
     "metadata": {},
     "output_type": "execute_result"
    }
   ],
   "source": [
    "num_duplicated=df.duplicated().sum()\n",
    "num_duplicated"
   ]
  },
  {
   "cell_type": "code",
   "execution_count": 7,
   "id": "15d22d34",
   "metadata": {},
   "outputs": [
    {
     "name": "stdout",
     "output_type": "stream",
     "text": [
      "Dataset shape after removing duplicates: (195, 9)\n"
     ]
    }
   ],
   "source": [
    "df.drop_duplicates(inplace=True)\n",
    "print(f\"Dataset shape after removing duplicates: {df.shape}\")\n"
   ]
  },
  {
   "cell_type": "markdown",
   "id": "e384c32e",
   "metadata": {},
   "source": [
    "**Finding:** 5 duplicate rows were present in the dataset.  \n",
    "**Decision & Action:** Removed these duplicate rows to maintain data integrity.  \n",
    "**Result:** Dataset is now clean with unique rows only."
   ]
  },
  {
   "cell_type": "markdown",
   "id": "84a373f8",
   "metadata": {},
   "source": [
    "### Saving cleaned Data ###"
   ]
  },
  {
   "cell_type": "code",
   "execution_count": 14,
   "id": "0441e3dd",
   "metadata": {},
   "outputs": [
    {
     "name": "stdout",
     "output_type": "stream",
     "text": [
      " Cleaned dataset saved successfully!\n"
     ]
    }
   ],
   "source": [
    "\n",
    "df.to_csv(r\"C:\\Users\\navya\\OneDrive\\Documents\\Sales_Analysis_Project\\Data\\sales_data_cleaned.csv\", index=False)\n",
    "print(\" Cleaned dataset saved successfully!\")\n",
    "\n"
   ]
  },
  {
   "cell_type": "code",
   "execution_count": null,
   "id": "eaba82a4",
   "metadata": {},
   "outputs": [],
   "source": []
  }
 ],
 "metadata": {
  "kernelspec": {
   "display_name": "base",
   "language": "python",
   "name": "python3"
  },
  "language_info": {
   "codemirror_mode": {
    "name": "ipython",
    "version": 3
   },
   "file_extension": ".py",
   "mimetype": "text/x-python",
   "name": "python",
   "nbconvert_exporter": "python",
   "pygments_lexer": "ipython3",
   "version": "3.12.7"
  }
 },
 "nbformat": 4,
 "nbformat_minor": 5
}
